{
 "cells": [
  {
   "cell_type": "code",
   "execution_count": null,
   "id": "e34d0fdb",
   "metadata": {},
   "outputs": [],
   "source": []
  },
  {
   "cell_type": "code",
   "execution_count": 2,
   "id": "68bb54cb",
   "metadata": {},
   "outputs": [
    {
     "ename": "ModuleNotFoundError",
     "evalue": "No module named 'SLOGmodules'",
     "output_type": "error",
     "traceback": [
      "\u001b[1;31m---------------------------------------------------------------------------\u001b[0m",
      "\u001b[1;31mModuleNotFoundError\u001b[0m                       Traceback (most recent call last)",
      "\u001b[1;32mC:\\Users\\CHANGY~1\\AppData\\Local\\Temp/ipykernel_17924/1664260103.py\u001b[0m in \u001b[0;36m<module>\u001b[1;34m\u001b[0m\n\u001b[0;32m     13\u001b[0m \u001b[1;33m\u001b[0m\u001b[0m\n\u001b[0;32m     14\u001b[0m \u001b[1;31m#### Import SLOG packakes\u001b[0m\u001b[1;33m\u001b[0m\u001b[1;33m\u001b[0m\u001b[1;33m\u001b[0m\u001b[0m\n\u001b[1;32m---> 15\u001b[1;33m \u001b[1;32mfrom\u001b[0m \u001b[0mSLOGmodules\u001b[0m \u001b[1;32mimport\u001b[0m \u001b[0mSLOGtools\u001b[0m \u001b[1;32mas\u001b[0m \u001b[0mSLOGtools\u001b[0m\u001b[1;33m\u001b[0m\u001b[1;33m\u001b[0m\u001b[0m\n\u001b[0m\u001b[0;32m     16\u001b[0m \u001b[1;32mfrom\u001b[0m \u001b[0mSLOGmodules\u001b[0m \u001b[1;32mimport\u001b[0m \u001b[0mSLOGobjective\u001b[0m \u001b[1;32mas\u001b[0m \u001b[0mSLOGobj\u001b[0m\u001b[1;33m\u001b[0m\u001b[1;33m\u001b[0m\u001b[0m\n\u001b[0;32m     17\u001b[0m \u001b[1;32mfrom\u001b[0m \u001b[0mSLOGmodules\u001b[0m \u001b[1;32mimport\u001b[0m \u001b[0mSLOGarchitectures\u001b[0m \u001b[1;32mas\u001b[0m \u001b[0mSLOGarchi\u001b[0m\u001b[1;33m\u001b[0m\u001b[1;33m\u001b[0m\u001b[0m\n",
      "\u001b[1;31mModuleNotFoundError\u001b[0m: No module named 'SLOGmodules'"
     ]
    }
   ],
   "source": [
    "import numpy as np\n",
    "from numpy import linalg as LA\n",
    "import torch; torch.set_default_dtype(torch.float64)\n",
    "import torch.nn as nn\n",
    "import torch.optim as optim\n",
    "import copy\n",
    "import matplotlib.pyplot as plt\n",
    "# import mymodule as myModules\n",
    "import matplotlib.cm as cm\n",
    "from scipy import linalg\n",
    "from timeit import default_timer as timer\n",
    "import networkx as nx\n",
    "\n",
    "#### Import SLOG packakes\n",
    "from SLOGmodules import SLOGtools as SLOGtools\n",
    "from SLOGmodules import SLOGobjective as SLOGobj\n",
    "from SLOGmodules import SLOGarchitectures as SLOGarchi\n",
    "from SLOGmodules import SLOGtraining as SLOGtrainer\n",
    "from SLOGmodules import SLOGmodel as SLOGmodel\n",
    "from SLOGmodules import SLOGevaluation as SLOGevaluator\n",
    "from SLOGmodules import SLOGdata as SLOGdata\n",
    "\n",
    "#### Import GNN packages\n",
    "from SLOGmodules import graphTools as graphTools\n",
    "from SLOGmodules import dataTools as dataTools"
   ]
  },
  {
   "cell_type": "code",
   "execution_count": null,
   "id": "e4227e3e",
   "metadata": {},
   "outputs": [],
   "source": [
    "### Data & graph parameters\n",
    "nNode = 20\n",
    "graph_type = 'SBM'\n",
    "nTrain = 64000\n",
    "batchsize = 400\n",
    "nValid = batchsize\n",
    "nTest = batchsize\n",
    "\n",
    "### Network parameters\n",
    "K = 5 # number of layers\n",
    "\n",
    "### Filter parameters\n",
    "alpha = 1.0"
   ]
  },
  {
   "cell_type": "code",
   "execution_count": null,
   "id": "8e152e70",
   "metadata": {},
   "outputs": [],
   "source": [
    "# Data and graph generation\n",
    "\n",
    "# graph = SLOGtools.generate_graph(nNode,graph_type)\n",
    "G = graphTools.Graph(graphType, nNodes, graphOptions)\n",
    "\n",
    "N_C = 3\n",
    "\n",
    "sourceNodes, communityLabels,communityList = SLOGtools.computeSourceNodes_slog(G.A, nClasses, N_C, mode = 'random')\n",
    "\n",
    "g_batch = SLOGtools.generate_g_batch(nNode,alpha)\n",
    "\n",
    "data = SLOGdata.SLOGdata(G, nTrain, nValid, nTest, sourceNodes, communityList,V_slog,alpha = 1.0, selectMode = 'random',signalMode = 'Gaussion',tMax = None)\n",
    "\n",
    "\n",
    "data.astype(torch.float64)\n",
    "data.expandDims()"
   ]
  },
  {
   "cell_type": "code",
   "execution_count": null,
   "id": "af7eb4ac",
   "metadata": {},
   "outputs": [],
   "source": [
    "SLOG_net = SLOGarchi.GraphSLoG_v1(graph.V,N,C,K, myObject)\n",
    "\n",
    "myModel = SLOGmodel.Model(SLOG_net,SLOGtrainer,SLOGevaluator)\n",
    "\n",
    "result_train = myModel.train(data,batchsize)\n",
    "\n",
    "result_evaluate = myModel.evaluate(data)"
   ]
  }
 ],
 "metadata": {
  "kernelspec": {
   "display_name": "Python 3 (ipykernel)",
   "language": "python",
   "name": "python3"
  },
  "language_info": {
   "codemirror_mode": {
    "name": "ipython",
    "version": 3
   },
   "file_extension": ".py",
   "mimetype": "text/x-python",
   "name": "python",
   "nbconvert_exporter": "python",
   "pygments_lexer": "ipython3",
   "version": "3.8.12"
  }
 },
 "nbformat": 4,
 "nbformat_minor": 5
}
